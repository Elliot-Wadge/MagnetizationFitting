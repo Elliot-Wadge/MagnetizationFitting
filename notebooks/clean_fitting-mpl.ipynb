{
 "cells": [
  {
   "cell_type": "markdown",
   "id": "44c0d39d",
   "metadata": {},
   "source": [
    "# Example Fitting Notebook - updated July 28th 2022\n",
    "\n",
    "author - Elliot Wadge\n",
    "\n",
    "check for newer notebooks at - https://github.com/Elliot-Wadge/MagnetizationFitting\n",
    "\n",
    "you can install the functions in this notebook to your version of python with `pip install git+https://github.com/Elliot-Wadge/MagnetizationFitting`\n",
    "\n",
    "then import them with `from magnetizationfitting import *`"
   ]
  },
  {
   "cell_type": "code",
   "execution_count": 1,
   "id": "02604ebd",
   "metadata": {},
   "outputs": [],
   "source": [
    "import numpy as np\n",
    "import matplotlib.pyplot as plt\n",
    "from scipy.integrate import solve_ivp\n",
    "import scipy\n",
    "from datetime import date"
   ]
  },
  {
   "cell_type": "markdown",
   "id": "7c7cb90d",
   "metadata": {},
   "source": [
    "# Defining Functions"
   ]
  },
  {
   "cell_type": "code",
   "execution_count": 2,
   "id": "0c35092b",
   "metadata": {},
   "outputs": [],
   "source": [
    "#derivatives of the first order system of equations for the continuous case\n",
    "def negative_derivatives(x,y,H,A,Ms):\n",
    "    dw = (H*Ms)/(2*A*10)*np.sin(y[0])\n",
    "    dphi = y[1]\n",
    "    if dw == 0 and dphi == 0:\n",
    "        #known unstable solution give nudge\n",
    "        dw += 1e-7\n",
    "    return -np.array([dphi, dw])\n",
    "\n",
    "#residuals of the boundary condition in the reverse direction 0 is the edge of the device and \n",
    "#last element is the interface\n",
    "def negative_boundary_conditions(phi,w, J1, J2, A):\n",
    "    return np.sum(-2*A*10*w[-1] - J1*np.sin(2*phi[-1]) - J2*np.sin(4*phi[-1]))\n",
    "\n",
    "#shooting method vectorized for convenience\n",
    "@np.vectorize\n",
    "def shoot(phi0, H, J1, J2, A, Ms, half_thickness):\n",
    "    tspan = (0,half_thickness)\n",
    "    x = np.linspace(0,half_thickness,1000)\n",
    "    sol = solve_ivp(negative_derivatives, tspan, [phi0,0], args = [H,A,Ms], t_eval = x, rtol = 1e-8)\n",
    "    phi = sol.y[0]\n",
    "    w = sol.y[1]\n",
    "    return negative_boundary_conditions(phi, w, J1, J2, A)"
   ]
  },
  {
   "cell_type": "code",
   "execution_count": 3,
   "id": "0d2145dc",
   "metadata": {},
   "outputs": [],
   "source": [
    "def fit_function(fields, J1, J2, A, Ms, half_thickness, zero_bound=1e-4, sorted=True):\n",
    "    '''fitting function for the shooting solution, FIELDS MUST BE IN ASCENDING\n",
    "    ORDER IF sorted=True this allows for massive speed up in run time'''\n",
    "    # initialize array for storing return array\n",
    "    mag = np.zeros(len(fields))\n",
    "    x = np.linspace(0, half_thickness, int(half_thickness*10))\n",
    "    \n",
    "    if J1 < 2*J2:\n",
    "        upper_bound = 1/2*np.arccos(-J1/(2*J2))\n",
    "    else:\n",
    "        upper_bound = np.pi/2\n",
    "        \n",
    "    for index, H in enumerate(fields):\n",
    "\n",
    "        # upon nearing saturation the solution becomes zero the solver requires\n",
    "        # a point on either side of axis so this causes\n",
    "        # error the except handles and sets phi0 to zero because we are at saturation\n",
    "        try:\n",
    "            phi0 = scipy.optimize.brentq(shoot,\n",
    "                                           zero_bound,\n",
    "                                           upper_bound,\n",
    "                                           xtol=1e-4,\n",
    "                                           args=(H, J1, J2, A, Ms, half_thickness))\n",
    "        except ValueError:\n",
    "            phi0 = 0\n",
    "\n",
    "        # range to solve the equation over\n",
    "        tspan = (0, max(x))\n",
    "        sol = solve_ivp(negative_derivatives, tspan, [phi0, 0],\n",
    "                        args=[H, A, Ms], t_eval=x, rtol=1e-5)\n",
    "        phis_opt = sol.y[0]\n",
    "        value = 1/(len(x))*sum(np.cos(phis_opt))\n",
    "        mag[index] = value\n",
    "        if sorted:\n",
    "            upper_bound = phi0\n",
    "        if 1 - value < 1e-4:\n",
    "            # if we reached saturation no reason to continue computing\n",
    "            mag[index:] = 1\n",
    "            break\n",
    "    return mag\n",
    "\n"
   ]
  },
  {
   "cell_type": "markdown",
   "id": "74ccc901",
   "metadata": {},
   "source": [
    "# Fitting Tail"
   ]
  },
  {
   "cell_type": "code",
   "execution_count": 4,
   "id": "9e78bc72",
   "metadata": {},
   "outputs": [
    {
     "name": "stdout",
     "output_type": "stream",
     "text": [
      "a = -4.21e-05\n",
      "b = 3.24e-04\n",
      "avg_moment = 3.24e-04\n"
     ]
    },
    {
     "data": {
      "text/plain": [
       "<matplotlib.legend.Legend at 0x1db56654e50>"
      ]
     },
     "execution_count": 4,
     "metadata": {},
     "output_type": "execute_result"
    },
    {
     "data": {
      "image/png": "[encoded data removed]",
      "text/plain": [
       "<Figure size 720x720 with 2 Axes>"
      ]
     },
     "metadata": {
      "needs_background": "light"
     },
     "output_type": "display_data"
    }
   ],
   "source": [
    "filename = 'J1-7-inplane-295K-N-avg.txt'\n",
    "\n",
    "#load data and transpose it into columns\n",
    "field, momentRaw = np.genfromtxt(filename, delimiter = '\\t', unpack = True)\n",
    "\n",
    "\n",
    "\n",
    "#extract the last N amount of points\n",
    "length_of_last_points = 200\n",
    "tail_x = field[-length_of_last_points:] \n",
    "tail_y = momentRaw[-length_of_last_points:]\n",
    "#fit the tail\n",
    "a, b = np.polyfit(tail_x, tail_y, 1)\n",
    "\n",
    "\n",
    "\n",
    "#get some information\n",
    "moment = momentRaw - field*a\n",
    "avg_moment = np.mean(moment[-length_of_last_points:])\n",
    "norm_moment = moment/avg_moment\n",
    "print(f\"a = {a:.2e}\\nb = {b:.2e}\\navg_moment = {avg_moment:.2e}\")\n",
    "\n",
    "#plot\n",
    "fig, (ax1, ax2) = plt.subplots(2,1, figsize=(10,10))\n",
    "\n",
    "ax1.plot(tail_x, tail_y, 'ko', label=\"tail\")\n",
    "ax1.plot(tail_x, tail_x*a+b, 'r-', label=\"fit\")\n",
    "ax2.plot(field, norm_moment, 'k.', label=\"norm moment\")\n",
    "ax1.legend()\n",
    "ax2.legend()\n",
    "\n",
    "\n"
   ]
  },
  {
   "cell_type": "markdown",
   "id": "595b6216",
   "metadata": {},
   "source": [
    "# Constants"
   ]
  },
  {
   "cell_type": "code",
   "execution_count": 5,
   "id": "9944a566",
   "metadata": {},
   "outputs": [
    {
     "name": "stdout",
     "output_type": "stream",
     "text": [
      "Ms = 1375.8349110381441\n",
      "half thickness = 4 nm\n",
      "S = 0.2946635385 cm^2\n"
     ]
    }
   ],
   "source": [
    "half_thickness = 4  #in units of nm this is nicer for the solver\n",
    "S = 0.2946635385  #in cm^2\n",
    "Ms = avg_moment/(2*half_thickness)/S*10**4  #again changing the units to be nice to the solver A/m\n",
    "ratio_MrMs = momentRaw[0]  #not used in solver\n",
    "print(f'Ms = {Ms*1000}')  #actual Ms\n",
    "print(f\"half thickness = {half_thickness} nm\")\n",
    "print(f\"S = {S} cm^2\")"
   ]
  },
  {
   "cell_type": "markdown",
   "id": "fe43fd93",
   "metadata": {},
   "source": [
    "# Curve Fit"
   ]
  },
  {
   "cell_type": "code",
   "execution_count": 6,
   "id": "1a49a8bb",
   "metadata": {},
   "outputs": [
    {
     "name": "stdout",
     "output_type": "stream",
     "text": [
      "Wall time: 53.9 s\n",
      "J1 = 2.690650465386543\n",
      "J2 = 1.6888817530946154\n",
      "A = 2.9999999999999996\n"
     ]
    }
   ],
   "source": [
    "#initial guesses\n",
    "J1 = 2\n",
    "J2 = 2\n",
    "A = 3\n",
    "\n",
    "#we need to not fit Ms and half_thickness and since the 'args' in curve_fit seems to not work lambda is the easiest way\n",
    "f = lambda H,J1,J2,A: fit_function(H,J1,J2,A,Ms,half_thickness)\n",
    "#warning: %time hides error message, if pOpt is not defined delete %time and rerun or just remove altogether\n",
    "%time pOpt, pCov = scipy.optimize.curve_fit(f, field, norm_moment, p0 = [J1,J2,A], bounds = ((0,0,0),(5,5,3)))\n",
    "y_fit = f(field,*pOpt)\n",
    "print(f\"J1 = {pOpt[0]}\\nJ2 = {pOpt[1]}\\nA = {pOpt[2]}\")"
   ]
  },
  {
   "cell_type": "markdown",
   "id": "107b0706",
   "metadata": {},
   "source": [
    "# Results and Residuals"
   ]
  },
  {
   "cell_type": "code",
   "execution_count": 9,
   "id": "dc1c71fc",
   "metadata": {},
   "outputs": [
    {
     "name": "stdout",
     "output_type": "stream",
     "text": [
      "red chisq = 15.732 +/- 0.082 \n",
      "\n",
      "J1 = 2.6907 +/- 0.0037\n",
      "J2 = 1.6889 +/- 0.0038\n",
      "A = 3.0000 +/- 0.0361 \n",
      "\n",
      "measured saturation field = 3.03 T\n",
      "fit saturation field = 2.95 T\n",
      "\n",
      "theta_data = 180.0\n",
      "theta_model = 142.8\n",
      "theta = 161.4\n",
      "\n",
      "Ms = 1.38e+03\n",
      "Mr = 1.25e-01\n",
      "Mr/Ms = 9.09e-05\n",
      "\n"
     ]
    },
    {
     "data": {
      "image/png": "[encoded data removed]",
      "text/plain": [
       "<Figure size 864x720 with 2 Axes>"
      ]
     },
     "metadata": {
      "needs_background": "light"
     },
     "output_type": "display_data"
    }
   ],
   "source": [
    "sigma = np.std(norm_moment[-length_of_last_points:])\n",
    "#calculate chisq from the standard deviation of the tail\n",
    "J1, J2, A = pOpt\n",
    "J1_err, J2_err, A_err = np.sqrt(np.diag(pCov))\n",
    "Hsat_calc = field[np.where(y_fit==1)[0][0]]\n",
    "Hsat_i = np.where(np.isclose(norm_moment, 1, rtol=0.001))[0][0]\n",
    "Hsat_meas = field[Hsat_i]\n",
    "\n",
    "#only interested in non-saturated region\n",
    "res = (norm_moment[:Hsat_i] - y_fit[:Hsat_i])\n",
    "norm_res = res/sigma\n",
    "#get chisq and other significant constants\n",
    "chisq_red = np.sum(norm_res**2)/(len(norm_res)-len(pOpt))\n",
    "\n",
    "if J1/(2*J2) < 1:\n",
    "    #handle case where J1/2J2 > 1\n",
    "    theta_model = 180 - np.arccos(J1/(2*J2))*180/np.pi\n",
    "else:\n",
    "    theta_model = 180\n",
    "theta_data = 2*np.arccos(ratio_MrMs)*180/np.pi\n",
    "theta = np.mean([theta_model, theta_data])\n",
    "\n",
    "\n",
    "print(f\"red chisq = {chisq_red:.3f} +/- {np.sqrt(2/(len(norm_res)-len(pOpt))):.3f} \\n\")\n",
    "print(f\"J1 = {J1:.4f} +/- {J1_err:.4f}\\nJ2 = {J2:.4f} +/- {J2_err:.4f}\\nA = {A:.4f} +/- {A_err:.4f} \\n\")\n",
    "\n",
    "print(f\"measured saturation field = {Hsat_meas:.2f} T\")\n",
    "print(f\"fit saturation field = {Hsat_calc:.2f} T\\n\")\n",
    "\n",
    "print(f\"theta_data = {theta_data:.1f}\\ntheta_model = {theta_model:.1f}\\ntheta = {theta:.1f}\\n\")\n",
    "\n",
    "print(f\"Ms = {Ms*1000:.2e}\\nMr = {ratio_MrMs*Ms*1000:.2e}\\nMr/Ms = {ratio_MrMs:.2e}\\n\")\n",
    "\n",
    "\n",
    "\n",
    "\n",
    "# make plots\n",
    "fig, (ax1,ax2) = plt.subplots(2,1, figsize = (12,10), gridspec_kw = {'height_ratios': (3,1)}, sharex = True)\n",
    "\n",
    "ax1.plot(field, norm_moment, '.', label = 'data')\n",
    "ax1.plot(field, y_fit, label = 'fit')\n",
    "ax1.set(ylabel = 'normalized magnetization')\n",
    "ax1.legend()\n",
    "\n",
    "\n",
    "ax2.plot(field[:Hsat_i], norm_res, '.')\n",
    "ax2.axhline(y = 1, linestyle = '--', color = 'k')\n",
    "\n",
    "ax2.axhline(y = -1, linestyle = '--', color = 'k')\n",
    "ax2.set(ylabel = 'normalized residulals', xlabel=\"field (T)\")\n",
    "fig.tight_layout()\n"
   ]
  },
  {
   "cell_type": "markdown",
   "id": "c7cc01af",
   "metadata": {},
   "source": [
    "# Saving"
   ]
  },
  {
   "cell_type": "code",
   "execution_count": 10,
   "id": "b0ec0223",
   "metadata": {},
   "outputs": [
    {
     "name": "stdout",
     "output_type": "stream",
     "text": [
      "ran on: 2022-07-28\n",
      "method = continuous (https://github.com/Elliot-Wadge/MagnetizationFitting)\n",
      "J1 = 2.6907 +/- 0.0037\n",
      "J2 = 1.6889 +/- 0.0038\n",
      "A = 3.0000 +/- 0.0361\n",
      "measured saturation field = 3.03 T\n",
      "fit saturation field = 2.95 T\n",
      "Ms = 1.38e+03 kA/m\n",
      "Mr = 1.25e-01 kA/m\n",
      "Mr/Ms = 9.09e-05\n",
      "theta_data = 180.0\n",
      "theta_model = 142.8\n",
      "theta = 161.4\n",
      "red chisq = 15.732 +/- 0.054\n",
      "\n",
      "Field (T),Mag (Data) (kA/m),Mag (Model) (kA/m),Residuals(kA/m)\n"
     ]
    }
   ],
   "source": [
    "header = f'''ran on: {date.today()}\n",
    "method = continuous (https://github.com/Elliot-Wadge/MagnetizationFitting)\n",
    "J1 = {J1:.4f} +/- {J1_err:.4f}\n",
    "J2 = {J2:.4f} +/- {J2_err:.4f}\n",
    "A = {A:.4f} +/- {A_err:.4f}\n",
    "measured saturation field = {Hsat_meas:.2f} T\n",
    "fit saturation field = {Hsat_calc:.2f} T\n",
    "Ms = {Ms*1000:.2e} kA/m\n",
    "Mr = {ratio_MrMs*Ms*1000:.2e} kA/m\n",
    "Mr/Ms = {ratio_MrMs:.2e}\n",
    "theta_data = {theta_data:.1f}\n",
    "theta_model = {theta_model:.1f}\n",
    "theta = {theta:.1f}\n",
    "red chisq = {chisq_red:.3f} +/- {np.sqrt(2/(len(field)-len(pOpt))):.3f}\n",
    "\n",
    "Field (T),Mag (Data) (kA/m),Mag (Model) (kA/m),Residuals(kA/m)'''\n",
    "print(header)"
   ]
  },
  {
   "cell_type": "code",
   "execution_count": 11,
   "id": "0928f470",
   "metadata": {},
   "outputs": [
    {
     "name": "stdout",
     "output_type": "stream",
     "text": [
      "saved to J1-7-inplane-295K-N-avg-out.csv\n"
     ]
    }
   ],
   "source": [
    "outname = filename.split('.')[0] + '-out.csv'\n",
    "print(f\"saved to {outname}\")\n",
    "save = np.vstack((field, norm_moment*Ms, np.array(y_fit)*Ms, norm_moment*Ms - np.array(y_fit)*Ms))\n",
    "np.savetxt(outname, save.T, delimiter=',', header=header)"
   ]
  },
  {
   "cell_type": "code",
   "execution_count": null,
   "id": "1c23f897",
   "metadata": {},
   "outputs": [],
   "source": []
  }
 ],
 "metadata": {
  "kernelspec": {
   "display_name": "Python 3.9.6 64-bit",
   "language": "python",
   "name": "python3"
  },
  "language_info": {
   "codemirror_mode": {
    "name": "ipython",
    "version": 3
   },
   "file_extension": ".py",
   "mimetype": "text/x-python",
   "name": "python",
   "nbconvert_exporter": "python",
   "pygments_lexer": "ipython3",
   "version": "3.9.6"
  },
  "vscode": {
   "interpreter": {
    "hash": "7dd2bf3473b6f045aa4dd30c0205ec3bbe685a9c52dddf7b81526bb52a7eb151"
   }
  }
 },
 "nbformat": 4,
 "nbformat_minor": 5
}
