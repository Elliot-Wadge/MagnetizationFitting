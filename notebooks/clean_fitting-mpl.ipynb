{
 "cells": [
  {
   "cell_type": "markdown",
   "id": "44c0d39d",
   "metadata": {},
   "source": [
    "# Example Fitting Notebook - updated August 8th, 2022\n",
    "\n",
    "author - Elliot Wadge & Julie Besler\n",
    "\n",
    "check for newer notebooks at - https://github.com/Elliot-Wadge/MagnetizationFitting\n",
    "\n",
    "you can install the functions in this notebook to your version of python with `pip install git+https://github.com/Elliot-Wadge/MagnetizationFitting`\n",
    "\n",
    "then import them with `from magnetizationfitting import *`"
   ]
  },
  {
   "cell_type": "code",
   "execution_count": 1,
   "id": "02604ebd",
   "metadata": {},
   "outputs": [],
   "source": [
    "import numpy as np\n",
    "import matplotlib.pyplot as plt\n",
    "from scipy.integrate import solve_ivp\n",
    "import scipy\n",
    "from datetime import date"
   ]
  },
  {
   "cell_type": "markdown",
   "id": "7c7cb90d",
   "metadata": {},
   "source": [
    "# Defining Functions"
   ]
  },
  {
   "cell_type": "code",
   "execution_count": 2,
   "id": "0c35092b",
   "metadata": {},
   "outputs": [],
   "source": [
    "#derivatives of the first order system of equations for the continuous case\n",
    "def negative_derivatives(x,y,H,A,Ms):\n",
    "    dw = (H*Ms)/(2*A*10)*np.sin(y[0])\n",
    "    dphi = y[1]\n",
    "    if dw == 0 and dphi == 0:\n",
    "        #known unstable solution give nudge\n",
    "        dw += 1e-7\n",
    "    return -np.array([dphi, dw])\n",
    "\n",
    "#residuals of the boundary condition in the reverse direction 0 is the edge of the device and \n",
    "#last element is the interface\n",
    "def negative_boundary_conditions(phi,w, J1, J2, A):\n",
    "    return np.sum(-2*A*10*w[-1] - J1*np.sin(2*phi[-1]) - J2*np.sin(4*phi[-1]))\n",
    "\n",
    "#shooting method vectorized for convenience\n",
    "@np.vectorize\n",
    "def shoot(phi0, H, J1, J2, A, Ms, half_thickness):\n",
    "    tspan = (0,half_thickness)\n",
    "    x = np.linspace(0,half_thickness,1000)\n",
    "    sol = solve_ivp(negative_derivatives, tspan, [phi0,0], args = [H,A,Ms], t_eval = x, rtol = 1e-8)\n",
    "    phi = sol.y[0]\n",
    "    w = sol.y[1]\n",
    "    return negative_boundary_conditions(phi, w, J1, J2, A)"
   ]
  },
  {
   "cell_type": "code",
   "execution_count": 3,
   "id": "0d2145dc",
   "metadata": {},
   "outputs": [],
   "source": [
    "def fit_function(fields, J1, J2, A, Ms, half_thickness, zero_bound=1e-4, sorted=True):\n",
    "    '''fitting function for the shooting solution, FIELDS MUST BE IN ASCENDING\n",
    "    ORDER IF sorted=True this allows for massive speed up in run time'''\n",
    "    # initialize array for storing return array\n",
    "    mag = np.zeros(len(fields))\n",
    "    x = np.linspace(0, half_thickness, int(half_thickness*10))\n",
    "    \n",
    "    if J1 < 2*J2:\n",
    "        upper_bound = 1/2*np.arccos(-J1/(2*J2))\n",
    "    else:\n",
    "        upper_bound = np.pi/2\n",
    "        \n",
    "    for index, H in enumerate(fields):\n",
    "\n",
    "        # upon nearing saturation the solution becomes zero the solver requires\n",
    "        # a point on either side of axis so this causes\n",
    "        # error the except handles and sets phi0 to zero because we are at saturation\n",
    "        try:\n",
    "            phi0 = scipy.optimize.brentq(shoot,\n",
    "                                           zero_bound,\n",
    "                                           upper_bound,\n",
    "                                           xtol=1e-4,\n",
    "                                           args=(H, J1, J2, A, Ms, half_thickness))\n",
    "        except ValueError:\n",
    "            phi0 = 0\n",
    "\n",
    "        # range to solve the equation over\n",
    "        tspan = (0, max(x))\n",
    "        sol = solve_ivp(negative_derivatives, tspan, [phi0, 0],\n",
    "                        args=[H, A, Ms], t_eval=x, rtol=1e-5)\n",
    "        phis_opt = sol.y[0]\n",
    "        value = 1/(len(x))*sum(np.cos(phis_opt))\n",
    "        mag[index] = value\n",
    "        if sorted:\n",
    "            upper_bound = phi0\n",
    "        if 1 - value < 1e-4:\n",
    "            # if we reached saturation no reason to continue computing\n",
    "            mag[index:] = 1\n",
    "            break\n",
    "    return mag\n",
    "\n"
   ]
  },
  {
   "cell_type": "markdown",
   "id": "74ccc901",
   "metadata": {},
   "source": [
    "# Fitting Tail"
   ]
  },
  {
   "cell_type": "code",
   "execution_count": 4,
   "id": "9e78bc72",
   "metadata": {},
   "outputs": [
    {
     "name": "stdout",
     "output_type": "stream",
     "text": [
      "a = -4.21e-05\n",
      "b = 3.24e-04\n",
      "avg_moment = 3.24e-04\n"
     ]
    },
    {
     "data": {
      "text/plain": [
       "<matplotlib.legend.Legend at 0x20c48261820>"
      ]
     },
     "execution_count": 4,
     "metadata": {},
     "output_type": "execute_result"
    },
    {
     "data": {
      "image/png": "[encoded data removed]",
      "text/plain": [
       "<Figure size 720x720 with 2 Axes>"
      ]
     },
     "metadata": {
      "needs_background": "light"
     },
     "output_type": "display_data"
    }
   ],
   "source": [
    "filename = 'J1-7-inplane-295K-N'\n",
    "\n",
    "#load data and transpose it into columns\n",
    "field, momentRaw = np.genfromtxt(filename+'-avg.txt', delimiter = '\\t', unpack = True)\n",
    "\n",
    "\n",
    "\n",
    "#extract the last N amount of points\n",
    "length_of_last_points = 200\n",
    "tail_x = field[-length_of_last_points:] \n",
    "tail_y = momentRaw[-length_of_last_points:]\n",
    "#fit the tail\n",
    "a, b = np.polyfit(tail_x, tail_y, 1)\n",
    "\n",
    "\n",
    "\n",
    "#get some information\n",
    "moment = momentRaw - field*a\n",
    "avg_moment = np.mean(moment[-length_of_last_points:])\n",
    "norm_moment = moment/avg_moment\n",
    "print(f\"a = {a:.2e}\\nb = {b:.2e}\\navg_moment = {avg_moment:.2e}\")\n",
    "\n",
    "#plot\n",
    "fig, (ax1, ax2) = plt.subplots(2,1, figsize=(10,10))\n",
    "\n",
    "ax1.plot(tail_x, tail_y, 'ko', label=\"tail\")\n",
    "ax1.plot(tail_x, tail_x*a+b, 'r-', label=\"fit\")\n",
    "ax2.plot(field, norm_moment, 'k.', label=\"norm moment\")\n",
    "ax1.legend()\n",
    "ax2.legend()\n",
    "\n",
    "\n"
   ]
  },
  {
   "cell_type": "markdown",
   "id": "595b6216",
   "metadata": {},
   "source": [
    "# Constants"
   ]
  },
  {
   "cell_type": "code",
   "execution_count": 5,
   "id": "9944a566",
   "metadata": {},
   "outputs": [
    {
     "name": "stdout",
     "output_type": "stream",
     "text": [
      "Ms = 1375.8349110381441 kA/m\n",
      "half thickness = 4 nm\n",
      "S = 0.2946635385 cm^2\n"
     ]
    }
   ],
   "source": [
    "half_thickness = 4  #thickness of a single ferromagnetic layer in nm\n",
    "S = 0.2946635385  #surface area of the sample in cm^2\n",
    "Ms = avg_moment/(2*half_thickness)/S*10**4  #in MA/m to be nice to the solver\n",
    "print(f'Ms = {Ms*1000} kA/m')\n",
    "print(f\"half thickness = {half_thickness} nm\")\n",
    "print(f\"S = {S} cm^2\")"
   ]
  },
  {
   "cell_type": "markdown",
   "id": "fe43fd93",
   "metadata": {},
   "source": [
    "# Curve Fit"
   ]
  },
  {
   "cell_type": "code",
   "execution_count": 6,
   "id": "1a49a8bb",
   "metadata": {},
   "outputs": [
    {
     "name": "stdout",
     "output_type": "stream",
     "text": [
      "model y-int = 0.500000\n",
      "data y-int = 0.280301\n",
      "model theta = 120.0000 degrees\n",
      "data theta = 147.4437 degrees\n"
     ]
    }
   ],
   "source": [
    "#initial guesses\n",
    "J1 = 1\n",
    "J2 = 1\n",
    "A = 1\n",
    "\n",
    "#calculate initial theta_model from J1 and J2\n",
    "if np.abs(J1)/(2*J2) < 1:\n",
    "    theta_model_init = 180 - np.arccos(J1/(2*J2))*180/np.pi\n",
    "else:\n",
    "    #handle AFC case where |J1|/2J2 >= 1\n",
    "    theta_model_init = 180\n",
    "\n",
    "#calculate theta_data from Mr/Ms ratio\n",
    "MrMs = norm_moment[0]  #not used in solver\n",
    "theta_data = 2*np.arccos(MrMs)*180/np.pi\n",
    "\n",
    "print(f\"initial model y-int = {np.cos(np.arccos(-J1/(2*J2))/2):.6f}\\ndata y-int = {MrMs:.6f}\")\n",
    "print(f\"initial model theta = {theta_model_init:.4f} degrees\\ndata theta = {theta_data:.4f} degrees\")"
   ]
  },
  {
   "cell_type": "code",
   "execution_count": 7,
   "id": "1ec8d5d1",
   "metadata": {},
   "outputs": [
    {
     "name": "stdout",
     "output_type": "stream",
     "text": [
      "Wall time: 1min 45s\n",
      "J1 = 2.6906504634972364 mJ/m^2\n",
      "J2 = 1.688881744280407 mJ/m^2\n",
      "A = 2.999999999997667 * 10 pJ/m\n"
     ]
    }
   ],
   "source": [
    "#we need not fit Ms and half_thickness, and since the 'args' in curve_fit seems to not work, lambda is the easiest way\n",
    "f = lambda H,J1,J2,A: fit_function(H,J1,J2,A,Ms,half_thickness)\n",
    "#warning: %time hides error message, if pOpt is not defined delete %time and rerun or just remove altogether\n",
    "%time pOpt, pCov = scipy.optimize.curve_fit(f, field, norm_moment, p0 = [J1,J2,A], bounds = ((0,0,0),(5,5,3)))\n",
    "y_fit = f(field,*pOpt)\n",
    "print(f\"J1 = {pOpt[0]} mJ/m^2\\nJ2 = {pOpt[1]} mJ/m^2\\nA = {pOpt[2]} * 10 pJ/m\")"
   ]
  },
  {
   "cell_type": "markdown",
   "id": "107b0706",
   "metadata": {},
   "source": [
    "# Results and Residuals"
   ]
  },
  {
   "cell_type": "code",
   "execution_count": 8,
   "id": "dc1c71fc",
   "metadata": {},
   "outputs": [
    {
     "name": "stdout",
     "output_type": "stream",
     "text": [
      "reduced chisq = 6.733 +/- 0.054 \n",
      "\n",
      "J1 = 2.6907 +/- 0.0037 mJ/m^2\n",
      "J2 = 1.6889 +/- 0.0038 mJ/m^2\n",
      "A = 3.0000 +/- 0.0361 * 10 pJ/m\n",
      "\n",
      "theta from data = 147.4\n",
      "theta from model = 120.0\n",
      "average theta = 133.7\n",
      "\n",
      "measured saturation field = 3.03 T\n",
      "model saturation field = 2.95 T\n",
      "\n",
      "Ms = 1375.83 kA/m\n",
      "Mr = 385.65 kA/m\n",
      "Mr/Ms = 0.280301\n",
      "\n"
     ]
    },
    {
     "data": {
      "text/plain": [
       "<matplotlib.legend.Legend at 0x20c483cf5e0>"
      ]
     },
     "execution_count": 8,
     "metadata": {},
     "output_type": "execute_result"
    },
    {
     "data": {
      "image/png": "[encoded data removed]",
      "text/plain": [
       "<Figure size 864x720 with 2 Axes>"
      ]
     },
     "metadata": {
      "needs_background": "light"
     },
     "output_type": "display_data"
    }
   ],
   "source": [
    "#get reduced chisq and other significant constants\n",
    "\n",
    "J1, J2, A = pOpt\n",
    "J1_err, J2_err, A_err = np.sqrt(np.diag(pCov))\n",
    "#calculate optimal theta_model from J1 and J2\n",
    "if np.abs(J1)/(2*J2) < 1:\n",
    "    theta_model = 180 - np.arccos(J1/(2*J2))*180/np.pi\n",
    "else:\n",
    "    #handle AFC case where |J1|/2J2 >= 1\n",
    "    theta_model = 180\n",
    "theta = np.mean([theta_model, theta_data])\n",
    "Hsat_model = field[np.where(y_fit==1)[0][0]]\n",
    "Hsat_data = field[np.where(np.isclose(norm_moment, 1, rtol=0.001))[0][0]]\n",
    "Hsat_i = np.where(np.isclose(norm_moment, 1, rtol=0.001))[0][0]\n",
    "\n",
    "#calculate residuals\n",
    "res = (norm_moment[:Hsat_i] - y_fit[:Hsat_i])\n",
    "empty_res = np.zeros(len(norm_moment[Hsat_i:]))\n",
    "empty_res[:] = np.nan\n",
    "#calculate chisq from the standard deviation of the tail\n",
    "sigma = np.std(norm_moment[-length_of_last_points:])\n",
    "norm_res = res/sigma\n",
    "chisq_red = np.sum(norm_res**2)/Hsat_i\n",
    "\n",
    "\n",
    "print(f\"reduced chisq = {chisq_red:.3f} +/- {np.sqrt(2/(len(field)-len(pOpt))):.3f} \\n\")\n",
    "\n",
    "print(f\"J1 = {J1:.4f} +/- {J1_err:.4f} mJ/m^2\\nJ2 = {J2:.4f} +/- {J2_err:.4f} mJ/m^2\\nA = {A:.4f} +/- {A_err:.4f} * 10 pJ/m\\n\")\n",
    "\n",
    "print(f\"theta from data = {theta_data:.1f}\\ntheta from model = {theta_model:.1f}\\naverage theta = {theta:.1f}\\n\")\n",
    "\n",
    "print(f\"measured saturation field = {Hsat_data:.2f} T\")\n",
    "print(f\"model saturation field = {Hsat_model:.2f} T\\n\")\n",
    "\n",
    "\n",
    "print(f\"Ms = {Ms*1000:.2f} kA/m\\nMr = {MrMs*Ms*1000:.2f} kA/m\\nMr/Ms = {MrMs:.6f}\\n\")\n",
    "\n",
    "\n",
    "\n",
    "\n",
    "# make plots\n",
    "fig, (ax1,ax2) = plt.subplots(2,1, figsize = (12,10), gridspec_kw = {'height_ratios': (1,3)}, sharex = True)\n",
    "\n",
    "ax1.plot(field[:Hsat_i], norm_res, '.')\n",
    "ax1.axhline(y = 1, linestyle = '--', color = 'k')\n",
    "ax1.axhline(y = -1, linestyle = '--', color = 'k')\n",
    "ax1.set(ylabel = 'normalized residulals')\n",
    "\n",
    "ax2.plot(field, norm_moment, '.', label = 'data')\n",
    "ax2.plot(field, y_fit, label = 'fit')\n",
    "ax2.set(ylabel = 'normalized magnetization', xlabel=\"field (T)\")\n",
    "ax2.legend()\n",
    "\n",
    "\n",
    "\n",
    "#plt.savefig(filename+'-fit.png',bbox_inches='tight')\n"
   ]
  },
  {
   "cell_type": "markdown",
   "id": "c7cc01af",
   "metadata": {},
   "source": [
    "# Saving"
   ]
  },
  {
   "cell_type": "code",
   "execution_count": 9,
   "id": "b0ec0223",
   "metadata": {},
   "outputs": [
    {
     "name": "stdout",
     "output_type": "stream",
     "text": [
      "ran on: 2022-08-08\n",
      "method = continuous (https://github.com/Elliot-Wadge/MagnetizationFitting)\n",
      "Ms = 1375.83 kA/m\n",
      "Mr/Ms = 0.2803\n",
      "J1 = 2.6907 +/- 0.0037 mJ/m^2\n",
      "J2 = 1.6889 +/- 0.0038 mJ/m^2\n",
      "A = 3.0000 +/- 0.0361 * 10 pJ/m\n",
      "theta from data = 147.44 degrees\n",
      "theta from model = 120.00 degrees\n",
      "average theta = 133.72 degrees\n",
      "measured saturation field = 3.030 T\n",
      "model saturation field = 2.950 T\n",
      "red chisq = 6.733 +/- 0.054\n",
      "standard deviation = 0.001411\n",
      "\n",
      "Field (T),Mag (Data) (kA/m),Mag (Model) (kA/m),Residuals(kA/m)\n"
     ]
    }
   ],
   "source": [
    "\n",
    "header = f'''ran on: {date.today()}\n",
    "method = continuous (https://github.com/Elliot-Wadge/MagnetizationFitting)\n",
    "Ms = {Ms*1000:.2f} kA/m\n",
    "Mr/Ms = {MrMs:.4f}\n",
    "J1 = {J1:.4f} +/- {J1_err:.4f} mJ/m^2\n",
    "J2 = {J2:.4f} +/- {J2_err:.4f} mJ/m^2\n",
    "A = {A:.4f} +/- {A_err:.4f} * 10 pJ/m\n",
    "theta from data = {theta_data:.2f} degrees\n",
    "theta from model = {theta_model:.2f} degrees\n",
    "average theta = {theta:.2f} degrees\n",
    "measured saturation field = {Hsat_data:.3f} T\n",
    "model saturation field = {Hsat_model:.3f} T\n",
    "red chisq = {chisq_red:.3f} +/- {np.sqrt(2/(len(field)-len(pOpt))):.3f}\n",
    "standard deviation = {sigma:.6f}\n",
    "\n",
    "Field (T),Mag (Data) (kA/m),Mag (Model) (kA/m),Residuals(kA/m)'''\n",
    "print(header)"
   ]
  },
  {
   "cell_type": "code",
   "execution_count": 10,
   "id": "0928f470",
   "metadata": {},
   "outputs": [
    {
     "name": "stdout",
     "output_type": "stream",
     "text": [
      "saved to J1-7-inplane-295K-N-fit.csv\n"
     ]
    }
   ],
   "source": [
    "outname = filename + '-fit.csv'\n",
    "print(f\"saved to {outname}\")\n",
    "save = np.vstack((field, norm_moment*Ms, np.array(y_fit)*Ms, np.concatenate((res*Ms,empty_res))))\n",
    "np.savetxt(outname, save.T, delimiter=',', header=header)"
   ]
  },
  {
   "cell_type": "code",
   "execution_count": 11,
   "id": "3da5aaa8",
   "metadata": {},
   "outputs": [
    {
     "name": "stdout",
     "output_type": "stream",
     "text": [
      "[[ 0.          0.01        0.02       ...  6.98        6.99\n",
      "   7.        ]\n",
      " [ 0.38564748  0.48971558  0.52039064 ...  1.378689    1.37597854\n",
      "   1.37420134]\n",
      " [ 0.438784    0.46555697  0.48887094 ...  1.37583491  1.37583491\n",
      "   1.37583491]\n",
      " [-0.05313652  0.0241586   0.0315197  ...         nan         nan\n",
      "          nan]]\n"
     ]
    },
    {
     "data": {
      "image/png": "[encoded data removed]",
      "text/plain": [
       "<Figure size 720x720 with 1 Axes>"
      ]
     },
     "metadata": {
      "needs_background": "light"
     },
     "output_type": "display_data"
    }
   ],
   "source": [
    "file_out = np.genfromtxt(outname, delimiter = ',').T\n",
    "\n",
    "print(file_out)\n",
    "\n",
    "fig = plt.figure(figsize = (10,10))\n",
    "plt.plot(file_out[0],file_out[1],'.')\n",
    "plt.plot(file_out[0],file_out[2])\n",
    "\n",
    "#plt.plot(file[2],file[3])\n",
    "\n",
    "plt.xlim(0,7)\n",
    "\n",
    "plt.show()"
   ]
  },
  {
   "cell_type": "code",
   "execution_count": null,
   "id": "0eba2561",
   "metadata": {},
   "outputs": [],
   "source": []
  }
 ],
 "metadata": {
  "kernelspec": {
   "display_name": "Python 3.9.6 64-bit",
   "language": "python",
   "name": "python3"
  },
  "language_info": {
   "codemirror_mode": {
    "name": "ipython",
    "version": 3
   },
   "file_extension": ".py",
   "mimetype": "text/x-python",
   "name": "python",
   "nbconvert_exporter": "python",
   "pygments_lexer": "ipython3",
   "version": "3.9.6"
  },
  "vscode": {
   "interpreter": {
    "hash": "7dd2bf3473b6f045aa4dd30c0205ec3bbe685a9c52dddf7b81526bb52a7eb151"
   }
  }
 },
 "nbformat": 4,
 "nbformat_minor": 5
}
